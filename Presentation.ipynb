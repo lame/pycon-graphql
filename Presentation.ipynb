{
 "cells": [
  {
   "cell_type": "markdown",
   "metadata": {},
   "source": [
    "# Notes\n",
    "\n",
    "## Python/GraphQL libs\n",
    "\n",
    "[Ariadne](https://pypi.org/project/ariadne/)\n",
    "\n",
    "- Pronounced \"R-E-ad-knee\", from greek mythology 🤷\n",
    "- 1.7k stars, 45 contributors on [GitHub](https://github.com/mirumee/ariadne), \n",
    "\n",
    "[Graphene](https://pypi.org/project/graphene/)\n",
    "\n",
    "- Easy to pronounce, named after super rad game-changing material\n",
    "- 7.1k stars, 162 contributors on [GitHub](https://github.com/graphql-python/graphene)\n",
    "- Let's go with this one...\n",
    "\n",
    "## Python\n",
    "\n",
    "3.10.2, and I'll try to use a walrus operator in the name of Guido :=\n",
    "\n",
    "## ORM\n",
    "\n",
    "SQLAlchemy\n",
    "\n",
    "- Industry standard from my experience\n",
    "- Peewee sounds cool, but I haven't used it. Maybe next time!\n",
    "\n",
    "\n",
    "## Database setup\n",
    "\n",
    "SQLite\n",
    "\n",
    "- though this should work just about the same with any database"
   ]
  },
  {
   "cell_type": "markdown",
   "metadata": {},
   "source": []
  }
 ],
 "metadata": {
  "language_info": {
   "name": "python"
  },
  "orig_nbformat": 4
 },
 "nbformat": 4,
 "nbformat_minor": 2
}
