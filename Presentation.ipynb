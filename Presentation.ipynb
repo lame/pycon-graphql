{
 "cells": [
  {
   "cell_type": "markdown",
   "metadata": {
    "slideshow": {
     "slide_type": "slide"
    }
   },
   "source": [
    "# GraphQL: The Devil's API 👹\n",
    "\n",
    "Or: How I Learned to Stop Worrying and Love the **DataLoader**\n",
    "\n",
    "\n",
    "*Thank you [Tatari](https://www.tatari.tv/) for your support!*\n",
    "\n",
    "\n",
    "- Ryan Kuhl\n",
    "- ryan@kuhl.dev\n",
    "- github.com/lame\n",
    "- linkedin.com/in/kuhl\n",
    "- https://www.meetup.com/homebrew-learning-club/"
   ]
  },
  {
   "cell_type": "markdown",
   "metadata": {
    "slideshow": {
     "slide_type": "slide"
    }
   },
   "source": [
    "# What the Heck is GraphQL?\n",
    "\n",
    "GraphQL is two things: a **query language** and an **API**... \n",
    "\n"
   ]
  },
  {
   "cell_type": "markdown",
   "metadata": {
    "slideshow": {
     "slide_type": "subslide"
    }
   },
   "source": [
    "## Query Language\n",
    "\n",
    "- A descriptive structure of our API \n",
    "- Replaces all those swagger docs you swear are 99% up to date but are really a closer to a complete disaster.\n",
    "\n",
    "\n",
    "```graphql\n",
    "query DanBrownNovels{\n",
    "  author(name: \"Dan Brown\"){\n",
    "    books{\n",
    "      edges{\n",
    "        node{\n",
    "          title\n",
    "          isDemonic\n",
    "        }\n",
    "      }\n",
    "    }\n",
    "  }\n",
    "}\n",
    "```"
   ]
  },
  {
   "cell_type": "markdown",
   "metadata": {
    "slideshow": {
     "slide_type": "subslide"
    }
   },
   "source": [
    "## The API\n",
    "\n",
    "Gives our users a way of traversing our connected data\n",
    "\n",
    "```python\n",
    "class LamborghiniQL(SQLAlchemyObjectType):\n",
    "    class Meta:\n",
    "        model = LamborghiniModel\n",
    "        interfaces = (relay.Node,)\n",
    "    \n",
    "    is_diablo = graphene.Boolean()\n",
    "    \n",
    "    def resolve_is_diablo(self, info):\n",
    "        return self.model == 'diablo'\n",
    "```"
   ]
  },
  {
   "cell_type": "markdown",
   "metadata": {
    "slideshow": {
     "slide_type": "slide"
    }
   },
   "source": [
    "## Pit Stop: The GQL Package Landscape\n",
    "\n",
    "We need three things:\n",
    "\n",
    "1. Database\n",
    "2. ORM\n",
    "3. GQL Lib\n",
    "\n"
   ]
  },
  {
   "cell_type": "markdown",
   "metadata": {
    "slideshow": {
     "slide_type": "subslide"
    }
   },
   "source": [
    "## Pit Stop: The GQL Package Landscape\n",
    "\n",
    "### Database\n",
    "\n",
    "- SQLite3 for this example\n",
    "- In production, use something that scales!!\n"
   ]
  },
  {
   "cell_type": "markdown",
   "metadata": {
    "slideshow": {
     "slide_type": "subslide"
    }
   },
   "source": [
    "## Pit Stop: The GQL Package Landscape\n",
    "\n",
    "### ORM\n",
    "\n",
    "\n",
    "SQLAlchemy\n",
    "\n",
    "- Industry standard from my experience\n",
    "- Peewee sounds cool, but I haven't used it. Maybe next time!"
   ]
  },
  {
   "cell_type": "markdown",
   "metadata": {
    "slideshow": {
     "slide_type": "subslide"
    }
   },
   "source": [
    "## Pit Stop: The GQL Package Landscape\n",
    "\n",
    "\n",
    "### Python/GraphQL libs\n",
    "\n",
    "[Ariadne](https://pypi.org/project/ariadne/)\n",
    "\n",
    "- Pronounced \"R-E-ad-knee\", from greek mythology 🤷\n",
    "- 1.7k stars, 45 contributors on [GitHub](https://github.com/mirumee/ariadne),"
   ]
  },
  {
   "cell_type": "markdown",
   "metadata": {
    "slideshow": {
     "slide_type": "subslide"
    }
   },
   "source": [
    "## Pit Stop: The GQL Package Landscape\n",
    "\n",
    "\n",
    "### Python/GraphQL libs\n",
    "\n",
    "[Graphene](https://pypi.org/project/graphene/)\n",
    "\n",
    "- Easy to pronounce, named after super rad game-changing material\n",
    "- 7.1k stars, 162 contributors on [GitHub](https://github.com/graphql-python/graphene)"
   ]
  },
  {
   "cell_type": "markdown",
   "metadata": {
    "slideshow": {
     "slide_type": "slide"
    }
   },
   "source": [
    "## Let's Make an API\n",
    "\n",
    "### Models"
   ]
  },
  {
   "cell_type": "code",
   "execution_count": 46,
   "metadata": {
    "slideshow": {
     "slide_type": "skip"
    }
   },
   "outputs": [],
   "source": [
    "# Set up Root dir\n",
    "import os\n",
    "import sys\n",
    "root = os.path.abspath(os.path.join(os.path.curdir, './flask_sqlalchemy/'))\n",
    "sys.path.append(root)\n",
    "\n",
    "# Import db stuff\n",
    "from database import Base, init_db\n",
    "from sqlalchemy import Column, DateTime, ForeignKey, Integer, String, func, Table\n",
    "from sqlalchemy.orm import backref, relationship\n",
    "\n",
    "# Initialize the db schema and stuff\n",
    "init_db()"
   ]
  },
  {
   "cell_type": "code",
   "execution_count": null,
   "metadata": {
    "slideshow": {
     "slide_type": "subslide"
    }
   },
   "outputs": [],
   "source": [
    "class CompanyModel(Base):\n",
    "    __tablename__ = \"companies\"\n",
    "    id = Column(Integer, primary_key=True)\n",
    "    name = Column(String)\n",
    "    \n",
    "class DepartmentModel(Base):\n",
    "    __tablename__ = \"departments\"\n",
    "    id = Column(Integer, primary_key=True)\n",
    "    name = Column(String)\n",
    "    company_id = Column(Integer, ForeignKey(\"companies.id\"))\n",
    "    company = relationship(\n",
    "        Company, \n",
    "        backref=\"departments\", \n",
    "        uselist=False, \n",
    "        cascade=\"delete,all\"\n",
    "    )"
   ]
  },
  {
   "cell_type": "code",
   "execution_count": null,
   "metadata": {
    "slideshow": {
     "slide_type": "subslide"
    }
   },
   "outputs": [],
   "source": [
    "class EmployeeModel(Base):\n",
    "    __tablename__ = \"employees\"\n",
    "    id = Column(Integer, primary_key=True)\n",
    "    name = Column(String)\n",
    "    department_id = Column(\n",
    "        Integer, \n",
    "        ForeignKey(\"departments.id\")\n",
    "    )\n",
    "    department = relationship(\n",
    "        Department, \n",
    "        backref=backref(\n",
    "            \"employees\", \n",
    "            uselist=True, \n",
    "            cascade=\"delete,all\"\n",
    "        )\n",
    "    )"
   ]
  },
  {
   "cell_type": "markdown",
   "metadata": {
    "slideshow": {
     "slide_type": "slide"
    }
   },
   "source": [
    "## Let's Make and API\n",
    "\n",
    "### GraphQL Schema\n",
    "\n",
    "Finally right?! He's been talking for like half an hour"
   ]
  },
  {
   "cell_type": "code",
   "execution_count": 1,
   "metadata": {
    "slideshow": {
     "slide_type": "-"
    }
   },
   "outputs": [],
   "source": [
    "import graphene\n",
    "from graphene import relay\n",
    "from graphene_sqlalchemy import SQLAlchemyConnectionField, SQLAlchemyObjectType\n",
    "from flask_graphql import GraphQLView"
   ]
  },
  {
   "cell_type": "code",
   "execution_count": null,
   "metadata": {
    "slideshow": {
     "slide_type": "subslide"
    }
   },
   "outputs": [],
   "source": [
    "class CompanyQL(SQLAlchemyObjectType):\n",
    "    class Meta:\n",
    "        model = CompanyModel        # The model SQLA maps to node\n",
    "        interfaces = (relay.Node,)  # Object state\n",
    "        \n",
    "\n",
    "class DepartmentQL(SQLAlchemyObjectType):\n",
    "    class Meta:\n",
    "        model = DepartmentModel\n",
    "        interfaces = (relay.Node,)\n",
    "        \n",
    "        \n",
    "class EmployeeQL(SQLAlchemyObjectType):\n",
    "    class Meta:\n",
    "        model = EmployeeModel\n",
    "        interfaces = (relay.Node,)"
   ]
  },
  {
   "cell_type": "code",
   "execution_count": null,
   "metadata": {
    "slideshow": {
     "slide_type": "subslide"
    }
   },
   "outputs": [],
   "source": [
    "# Create the root node\n",
    "\n",
    "class Query(graphene.ObjectType):\n",
    "    node = relay.Node.Field()\n",
    "\n",
    "    companies = (\n",
    "        SQLAlchemyConnectionField(\n",
    "            CompanyQL.connection\n",
    "        )\n",
    "    )\n",
    "    departments = (\n",
    "        SQLAlchemyConnectionField(\n",
    "            DepartmentQL.connection\n",
    "        )\n",
    "    )\n",
    "    employees = (\n",
    "        SQLAlchemyConnectionField(\n",
    "            EmployeeQL.connection\n",
    "        )\n",
    "    )"
   ]
  },
  {
   "cell_type": "code",
   "execution_count": null,
   "metadata": {
    "slideshow": {
     "slide_type": "subslide"
    }
   },
   "outputs": [],
   "source": [
    "# Make the root node discoverable\n",
    "schema = graphene.Schema(query=Query)\n",
    "\n",
    "app = Flask(__name__)\n",
    "app.debug = True\n",
    "\n",
    "\n",
    "app.add_url_rule(\n",
    "    \"/graphql\", \n",
    "    view_func=GraphQLView.as_view(\n",
    "        \"graphql\", \n",
    "        schema=schema, \n",
    "        graphiql=True\n",
    "    )\n",
    ")"
   ]
  },
  {
   "cell_type": "markdown",
   "metadata": {
    "slideshow": {
     "slide_type": "slide"
    }
   },
   "source": [
    "# Live Demo Time!!!\n",
    "\n",
    "What could go wrong?!\n",
    "\n",
    "![Really Funny Gif](https://c.tenor.com/Xw-PgnWOUBYAAAAC/eating-popcorn-im-watching.gif)"
   ]
  },
  {
   "cell_type": "markdown",
   "metadata": {
    "slideshow": {
     "slide_type": "slide"
    }
   },
   "source": [
    "# Geez, That Latency Tho\n",
    "\n",
    "Inherent in GraphQL's ladder structure and context:\n",
    "\n",
    "```\n",
    "|\n",
    "|--- Employees\n",
    "|-- Departments\n",
    "|- Company\n",
    "|\n",
    "```\n"
   ]
  },
  {
   "cell_type": "markdown",
   "metadata": {
    "slideshow": {
     "slide_type": "subslide"
    }
   },
   "source": [
    "```python\n",
    "companies = db_session.query(Company).all()\n",
    "for company in companies:\n",
    "    departments = (\n",
    "        db_session.query(Departments)\n",
    "        .filter_by(company_id=company.id)\n",
    "        .all()\n",
    "    )\n",
    "    for department in departments:\n",
    "        employees = (\n",
    "            db_session.query(Employees)\n",
    "            .filter_by(department_id=department.id)\n",
    "            .all()\n",
    "        )\n",
    "```"
   ]
  },
  {
   "cell_type": "markdown",
   "metadata": {
    "slideshow": {
     "slide_type": "subslide"
    }
   },
   "source": [
    "\n",
    "So if we have 1 company, with 10 departments and 100 employees:\n",
    "\n",
    "**not12 DB queries**\n",
    "\n",
    "If we have 100 companies, each with 10 departments, each department with 100 employees:\n",
    "\n",
    "1 + 100 + 100 * 10 = **1101 queries** 😨"
   ]
  },
  {
   "cell_type": "markdown",
   "metadata": {
    "slideshow": {
     "slide_type": "slide"
    }
   },
   "source": [
    "## Dataloaders to the rescue!!!\n",
    "\n",
    "- We don't need to do independent queries at each level\n",
    "- we can batch them!\n",
    "\n"
   ]
  },
  {
   "cell_type": "markdown",
   "metadata": {
    "slideshow": {
     "slide_type": "slide"
    }
   },
   "source": [
    "### What the heck is a promise\n",
    "\n",
    "- Introduce some async to our process\n",
    "- Sort of like generators\n",
    "\n",
    "1. Resolver requests an object\n",
    "2. Resolver queries DataLoader for obj\n",
    "3. DataLoader returns Promise()\n",
    "4. Promises get resolved at access time"
   ]
  },
  {
   "cell_type": "code",
   "execution_count": 2,
   "metadata": {
    "slideshow": {
     "slide_type": "subslide"
    }
   },
   "outputs": [
    {
     "name": "stdout",
     "output_type": "stream",
     "text": [
      "Value \n",
      "Fulfilled True\n"
     ]
    }
   ],
   "source": [
    "# TODO: Pretend you know more about this and it's just really intuitive\n",
    "from promise import Promise\n",
    "\n",
    "def _resolve(call):\n",
    "    pass\n",
    "    \n",
    "def _reject():\n",
    "    pass\n",
    "\n",
    "# Taken from Promise docs https://github.com/syrusakbary/promise#usage\n",
    "promise = Promise(\n",
    "    lambda resolver, rejector: _resolve(resolver)\n",
    ")\n",
    "promise = promise.resolve('')\n",
    "print(f'Value {promise.get()}')\n",
    "print(f'Fulfilled {promise.is_fulfilled}')"
   ]
  },
  {
   "cell_type": "code",
   "execution_count": 143,
   "metadata": {
    "slideshow": {
     "slide_type": "subslide"
    }
   },
   "outputs": [
    {
     "data": {
      "text/plain": [
       "<Promise at 0x111c91ff0 rejected with ValueError(\"Wasn't feeling it\")>"
      ]
     },
     "execution_count": 143,
     "metadata": {},
     "output_type": "execute_result"
    }
   ],
   "source": [
    "# See... super simple\n",
    "\n",
    "promise = Promise(executor=baz_resolve, scheduler=baz_reject)\n",
    "promise.reject(ValueError(\"Wasn't feeling it\"))"
   ]
  },
  {
   "cell_type": "markdown",
   "metadata": {
    "slideshow": {
     "slide_type": "slide"
    }
   },
   "source": [
    "## Let's make a DataLoader"
   ]
  },
  {
   "cell_type": "code",
   "execution_count": 140,
   "metadata": {
    "slideshow": {
     "slide_type": "fragment"
    }
   },
   "outputs": [],
   "source": [
    "import promise\n",
    "from promise.dataloader import DataLoader\n",
    "\n",
    "class DepartmentDataLoader(DataLoader):\n",
    "    def batch_load_fn(self, company_ids) -> Promise:\n",
    "        # company_ids is an unordered list\n",
    "        \n",
    "        departments_by_company_id = defaultdict(list)\n",
    "        departments = (\n",
    "            db_session.query(DepartmentModel)\n",
    "            .filter(DepartmentModel.company_id.in_(company_ids))\n",
    "            .all()\n",
    "        )\n",
    "        for department in departments:\n",
    "            departments_by_company_id[department.company_id].append(department)\n",
    "\n",
    "        # Need to return in same order as company_ids    \n",
    "        return Promise.resolve(\n",
    "            [departments_by_company_id[company_id] for company_id in company_ids]\n",
    "        )"
   ]
  },
  {
   "cell_type": "markdown",
   "metadata": {
    "slideshow": {
     "slide_type": "slide"
    }
   },
   "source": [
    "## Let's See Our DataLoader Gainz 💪"
   ]
  },
  {
   "cell_type": "code",
   "execution_count": 4,
   "metadata": {},
   "outputs": [
    {
     "data": {
      "text/plain": [
       "b'EmployeeQL:1'"
      ]
     },
     "execution_count": 4,
     "metadata": {},
     "output_type": "execute_result"
    }
   ],
   "source": [
    "from base64 import b64decode\n",
    "b64decode(b'RW1wbG95ZWVRTDox')\n",
    "\n",
    "# TODO LIST:\n",
    "#\n",
    "# Remake in G-Slides\n",
    "# Making a GraphQL server, not a client!\n",
    "# Requests package to query GraphQL\n",
    "# Get to the query **earlier**\n",
    "# Intro fragments\n",
    "# More time talking about plus/minus, nodes/edges, add pictures!\n",
    "# Optimization - tell em what you're gonna tell em, tell em, **tell em what you told em**"
   ]
  }
 ],
 "metadata": {
  "celltoolbar": "Slideshow",
  "kernelspec": {
   "display_name": "_pycon",
   "language": "python",
   "name": "_pycon"
  },
  "language_info": {
   "codemirror_mode": {
    "name": "ipython",
    "version": 3
   },
   "file_extension": ".py",
   "mimetype": "text/x-python",
   "name": "python",
   "nbconvert_exporter": "python",
   "pygments_lexer": "ipython3",
   "version": "3.10.2"
  }
 },
 "nbformat": 4,
 "nbformat_minor": 4
}
